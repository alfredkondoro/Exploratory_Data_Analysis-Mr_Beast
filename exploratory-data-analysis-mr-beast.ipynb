{
 "cells": [
  {
   "cell_type": "markdown",
   "id": "9b90d0d5",
   "metadata": {
    "papermill": {
     "duration": 0.008756,
     "end_time": "2023-12-26T09:35:43.069355",
     "exception": false,
     "start_time": "2023-12-26T09:35:43.060599",
     "status": "completed"
    },
    "tags": []
   },
   "source": [
    "# Exploratory Data Analysis of Mr Beast's YouTube Channel"
   ]
  },
  {
   "cell_type": "markdown",
   "id": "6fe21182",
   "metadata": {
    "papermill": {
     "duration": 0.007765,
     "end_time": "2023-12-26T09:35:43.085803",
     "exception": false,
     "start_time": "2023-12-26T09:35:43.078038",
     "status": "completed"
    },
    "tags": []
   },
   "source": [
    "### Intro\n",
    "YouTube has become an incredible platform for content creators to showcase their work, engage with audiences, and build communities. One prominent figure in the YouTube landscape is Mr Beast, known for his philanthropic stunts, attention-grabbing challenges, and entertaining content.\n",
    "\n",
    "In this notebook, we will delve into an exploratory analysis of Mr Beast's YouTube channel data. The dataset includes key metrics such as video title, description, duration, view count, like count, comment count, publish date, and publish time. Our goal is to uncover insights and answer several intriguing questions about Mr Beast's content.\n",
    "\n",
    "1. What is the average duration of Mr Beast's videos in seconds?\n",
    "2. Which video has the highest view count?\n",
    "3. What is the correlation between the number of views and the number of likes on Mr Beast's videos?\n",
    "4. On which day of the week are Mr Beast's videos most commonly published?\n",
    "5. Is there any correlation between video duration and the number of comments received?\n",
    "6. What is the distribution of video durations in Mr Beast's channel?\n",
    "7. Are there any specific words or phrases that commonly appear in video titles that could be linked to higher view counts?"
   ]
  },
  {
   "cell_type": "code",
   "execution_count": 1,
   "id": "996dbb49",
   "metadata": {
    "execution": {
     "iopub.execute_input": "2023-12-26T09:35:43.104809Z",
     "iopub.status.busy": "2023-12-26T09:35:43.104154Z",
     "iopub.status.idle": "2023-12-26T09:35:45.535319Z",
     "shell.execute_reply": "2023-12-26T09:35:45.533986Z"
    },
    "papermill": {
     "duration": 2.444433,
     "end_time": "2023-12-26T09:35:45.538502",
     "exception": false,
     "start_time": "2023-12-26T09:35:43.094069",
     "status": "completed"
    },
    "tags": []
   },
   "outputs": [],
   "source": [
    "#import libraries\n",
    "import pandas as pd\n",
    "import numpy as np\n",
    "import matplotlib.pyplot as plt\n",
    "from sklearn.feature_extraction.text import CountVectorizer"
   ]
  },
  {
   "cell_type": "code",
   "execution_count": 2,
   "id": "f80d8b26",
   "metadata": {
    "execution": {
     "iopub.execute_input": "2023-12-26T09:35:45.557456Z",
     "iopub.status.busy": "2023-12-26T09:35:45.556070Z",
     "iopub.status.idle": "2023-12-26T09:35:45.642266Z",
     "shell.execute_reply": "2023-12-26T09:35:45.640837Z"
    },
    "papermill": {
     "duration": 0.098583,
     "end_time": "2023-12-26T09:35:45.645017",
     "exception": false,
     "start_time": "2023-12-26T09:35:45.546434",
     "status": "completed"
    },
    "tags": []
   },
   "outputs": [
    {
     "data": {
      "text/html": [
       "<div>\n",
       "<style scoped>\n",
       "    .dataframe tbody tr th:only-of-type {\n",
       "        vertical-align: middle;\n",
       "    }\n",
       "\n",
       "    .dataframe tbody tr th {\n",
       "        vertical-align: top;\n",
       "    }\n",
       "\n",
       "    .dataframe thead th {\n",
       "        text-align: right;\n",
       "    }\n",
       "</style>\n",
       "<table border=\"1\" class=\"dataframe\">\n",
       "  <thead>\n",
       "    <tr style=\"text-align: right;\">\n",
       "      <th></th>\n",
       "      <th>id</th>\n",
       "      <th>title</th>\n",
       "      <th>description</th>\n",
       "      <th>publishTime</th>\n",
       "      <th>kind_stats</th>\n",
       "      <th>duration_seconds</th>\n",
       "      <th>viewCount</th>\n",
       "      <th>likeCount</th>\n",
       "      <th>commentCount</th>\n",
       "      <th>thumbnails.default.url</th>\n",
       "      <th>...</th>\n",
       "      <th>thumbnails.high.width</th>\n",
       "      <th>thumbnails.high.height</th>\n",
       "      <th>contentDetails.duration</th>\n",
       "      <th>contentDetails.dimension</th>\n",
       "      <th>topicDetails.topicCategories</th>\n",
       "      <th>snippet.defaultLanguage</th>\n",
       "      <th>localizations.en.title</th>\n",
       "      <th>localizations.en.description</th>\n",
       "      <th>snippet.tags</th>\n",
       "      <th>contentDetails.contentRating.ytRating</th>\n",
       "    </tr>\n",
       "  </thead>\n",
       "  <tbody>\n",
       "    <tr>\n",
       "      <th>0</th>\n",
       "      <td>TQHEJj68Jew</td>\n",
       "      <td>I Got Hunted By A Real Bounty Hunter</td>\n",
       "      <td>Sign up for Current w/ my Creator Code \"BEAST\"...</td>\n",
       "      <td>2021-04-24 20:00:00+00:00</td>\n",
       "      <td>youtube#video</td>\n",
       "      <td>861</td>\n",
       "      <td>84717282.0</td>\n",
       "      <td>2876493.0</td>\n",
       "      <td>128922.0</td>\n",
       "      <td>https://i.ytimg.com/vi/TQHEJj68Jew/default.jpg</td>\n",
       "      <td>...</td>\n",
       "      <td>480.0</td>\n",
       "      <td>360.0</td>\n",
       "      <td>PT14M21S</td>\n",
       "      <td>2d</td>\n",
       "      <td>['https://en.wikipedia.org/wiki/Lifestyle_(soc...</td>\n",
       "      <td>NaN</td>\n",
       "      <td>NaN</td>\n",
       "      <td>NaN</td>\n",
       "      <td>NaN</td>\n",
       "      <td>NaN</td>\n",
       "    </tr>\n",
       "    <tr>\n",
       "      <th>1</th>\n",
       "      <td>00NgUctWoLQ</td>\n",
       "      <td>Extreme $1,000,000 Hide And Seek</td>\n",
       "      <td>I didn't expect that to happen at the end I wa...</td>\n",
       "      <td>2021-12-18 21:00:00+00:00</td>\n",
       "      <td>youtube#video</td>\n",
       "      <td>729</td>\n",
       "      <td>32090178.0</td>\n",
       "      <td>2125183.0</td>\n",
       "      <td>73593.0</td>\n",
       "      <td>https://i.ytimg.com/vi/00NgUctWoLQ/default.jpg</td>\n",
       "      <td>...</td>\n",
       "      <td>480.0</td>\n",
       "      <td>360.0</td>\n",
       "      <td>PT12M9S</td>\n",
       "      <td>2d</td>\n",
       "      <td>['https://en.wikipedia.org/wiki/Lifestyle_(soc...</td>\n",
       "      <td>en</td>\n",
       "      <td>Extreme $1,000,000 Hide And Seek</td>\n",
       "      <td>I didn't expect that to happen at the end I wa...</td>\n",
       "      <td>NaN</td>\n",
       "      <td>NaN</td>\n",
       "    </tr>\n",
       "    <tr>\n",
       "      <th>2</th>\n",
       "      <td>NaN</td>\n",
       "      <td>MrBeast</td>\n",
       "      <td>Accomplishments - Raised $20000000 To Plant 20...</td>\n",
       "      <td>2012-02-20 00:43:50+00:00</td>\n",
       "      <td>NaN</td>\n",
       "      <td>0</td>\n",
       "      <td>NaN</td>\n",
       "      <td>NaN</td>\n",
       "      <td>NaN</td>\n",
       "      <td>https://yt3.ggpht.com/ytc/AKedOLTctGKJ32CdDLiS...</td>\n",
       "      <td>...</td>\n",
       "      <td>NaN</td>\n",
       "      <td>NaN</td>\n",
       "      <td>NaN</td>\n",
       "      <td>NaN</td>\n",
       "      <td>NaN</td>\n",
       "      <td>NaN</td>\n",
       "      <td>NaN</td>\n",
       "      <td>NaN</td>\n",
       "      <td>NaN</td>\n",
       "      <td>NaN</td>\n",
       "    </tr>\n",
       "    <tr>\n",
       "      <th>3</th>\n",
       "      <td>ayXxwJJId_c</td>\n",
       "      <td>I Bought The World&amp;#39;s Largest Mystery Box! ...</td>\n",
       "      <td>I cant believe I spent over $500000 on mystery...</td>\n",
       "      <td>2021-04-03 20:00:01+00:00</td>\n",
       "      <td>youtube#video</td>\n",
       "      <td>709</td>\n",
       "      <td>101745632.0</td>\n",
       "      <td>3110824.0</td>\n",
       "      <td>162796.0</td>\n",
       "      <td>https://i.ytimg.com/vi/ayXxwJJId_c/default.jpg</td>\n",
       "      <td>...</td>\n",
       "      <td>480.0</td>\n",
       "      <td>360.0</td>\n",
       "      <td>PT11M49S</td>\n",
       "      <td>2d</td>\n",
       "      <td>['https://en.wikipedia.org/wiki/Lifestyle_(soc...</td>\n",
       "      <td>NaN</td>\n",
       "      <td>NaN</td>\n",
       "      <td>NaN</td>\n",
       "      <td>NaN</td>\n",
       "      <td>NaN</td>\n",
       "    </tr>\n",
       "    <tr>\n",
       "      <th>4</th>\n",
       "      <td>cExLQ1o2pDw</td>\n",
       "      <td>First To Rob Bank Wins $100,000</td>\n",
       "      <td>I didnt think he would actually rob the bank.....</td>\n",
       "      <td>2021-09-26 20:00:06+00:00</td>\n",
       "      <td>youtube#video</td>\n",
       "      <td>482</td>\n",
       "      <td>50008942.0</td>\n",
       "      <td>2359606.0</td>\n",
       "      <td>120621.0</td>\n",
       "      <td>https://i.ytimg.com/vi/cExLQ1o2pDw/default.jpg</td>\n",
       "      <td>...</td>\n",
       "      <td>480.0</td>\n",
       "      <td>360.0</td>\n",
       "      <td>PT8M2S</td>\n",
       "      <td>2d</td>\n",
       "      <td>['https://en.wikipedia.org/wiki/Lifestyle_(soc...</td>\n",
       "      <td>NaN</td>\n",
       "      <td>NaN</td>\n",
       "      <td>NaN</td>\n",
       "      <td>NaN</td>\n",
       "      <td>NaN</td>\n",
       "    </tr>\n",
       "  </tbody>\n",
       "</table>\n",
       "<p>5 rows × 26 columns</p>\n",
       "</div>"
      ],
      "text/plain": [
       "            id                                              title  \\\n",
       "0  TQHEJj68Jew               I Got Hunted By A Real Bounty Hunter   \n",
       "1  00NgUctWoLQ                   Extreme $1,000,000 Hide And Seek   \n",
       "2          NaN                                            MrBeast   \n",
       "3  ayXxwJJId_c  I Bought The World&#39;s Largest Mystery Box! ...   \n",
       "4  cExLQ1o2pDw                    First To Rob Bank Wins $100,000   \n",
       "\n",
       "                                         description  \\\n",
       "0  Sign up for Current w/ my Creator Code \"BEAST\"...   \n",
       "1  I didn't expect that to happen at the end I wa...   \n",
       "2  Accomplishments - Raised $20000000 To Plant 20...   \n",
       "3  I cant believe I spent over $500000 on mystery...   \n",
       "4  I didnt think he would actually rob the bank.....   \n",
       "\n",
       "                 publishTime     kind_stats  duration_seconds    viewCount  \\\n",
       "0  2021-04-24 20:00:00+00:00  youtube#video               861   84717282.0   \n",
       "1  2021-12-18 21:00:00+00:00  youtube#video               729   32090178.0   \n",
       "2  2012-02-20 00:43:50+00:00            NaN                 0          NaN   \n",
       "3  2021-04-03 20:00:01+00:00  youtube#video               709  101745632.0   \n",
       "4  2021-09-26 20:00:06+00:00  youtube#video               482   50008942.0   \n",
       "\n",
       "   likeCount  commentCount                             thumbnails.default.url  \\\n",
       "0  2876493.0      128922.0     https://i.ytimg.com/vi/TQHEJj68Jew/default.jpg   \n",
       "1  2125183.0       73593.0     https://i.ytimg.com/vi/00NgUctWoLQ/default.jpg   \n",
       "2        NaN           NaN  https://yt3.ggpht.com/ytc/AKedOLTctGKJ32CdDLiS...   \n",
       "3  3110824.0      162796.0     https://i.ytimg.com/vi/ayXxwJJId_c/default.jpg   \n",
       "4  2359606.0      120621.0     https://i.ytimg.com/vi/cExLQ1o2pDw/default.jpg   \n",
       "\n",
       "   ...  thumbnails.high.width  thumbnails.high.height contentDetails.duration  \\\n",
       "0  ...                  480.0                   360.0                PT14M21S   \n",
       "1  ...                  480.0                   360.0                 PT12M9S   \n",
       "2  ...                    NaN                     NaN                     NaN   \n",
       "3  ...                  480.0                   360.0                PT11M49S   \n",
       "4  ...                  480.0                   360.0                  PT8M2S   \n",
       "\n",
       "   contentDetails.dimension  \\\n",
       "0                        2d   \n",
       "1                        2d   \n",
       "2                       NaN   \n",
       "3                        2d   \n",
       "4                        2d   \n",
       "\n",
       "                        topicDetails.topicCategories snippet.defaultLanguage  \\\n",
       "0  ['https://en.wikipedia.org/wiki/Lifestyle_(soc...                     NaN   \n",
       "1  ['https://en.wikipedia.org/wiki/Lifestyle_(soc...                      en   \n",
       "2                                                NaN                     NaN   \n",
       "3  ['https://en.wikipedia.org/wiki/Lifestyle_(soc...                     NaN   \n",
       "4  ['https://en.wikipedia.org/wiki/Lifestyle_(soc...                     NaN   \n",
       "\n",
       "             localizations.en.title  \\\n",
       "0                               NaN   \n",
       "1  Extreme $1,000,000 Hide And Seek   \n",
       "2                               NaN   \n",
       "3                               NaN   \n",
       "4                               NaN   \n",
       "\n",
       "                        localizations.en.description snippet.tags  \\\n",
       "0                                                NaN          NaN   \n",
       "1  I didn't expect that to happen at the end I wa...          NaN   \n",
       "2                                                NaN          NaN   \n",
       "3                                                NaN          NaN   \n",
       "4                                                NaN          NaN   \n",
       "\n",
       "  contentDetails.contentRating.ytRating  \n",
       "0                                   NaN  \n",
       "1                                   NaN  \n",
       "2                                   NaN  \n",
       "3                                   NaN  \n",
       "4                                   NaN  \n",
       "\n",
       "[5 rows x 26 columns]"
      ]
     },
     "execution_count": 2,
     "metadata": {},
     "output_type": "execute_result"
    }
   ],
   "source": [
    "#data input\n",
    "data = pd.read_csv(\"/kaggle/input/mr-beast-youtube-video-statistics/MrBeast_youtube_stats.csv\")\n",
    "data.head(5)"
   ]
  },
  {
   "cell_type": "code",
   "execution_count": 3,
   "id": "f71f96b6",
   "metadata": {
    "execution": {
     "iopub.execute_input": "2023-12-26T09:35:45.664481Z",
     "iopub.status.busy": "2023-12-26T09:35:45.664006Z",
     "iopub.status.idle": "2023-12-26T09:35:45.672838Z",
     "shell.execute_reply": "2023-12-26T09:35:45.671523Z"
    },
    "papermill": {
     "duration": 0.021958,
     "end_time": "2023-12-26T09:35:45.675408",
     "exception": false,
     "start_time": "2023-12-26T09:35:45.653450",
     "status": "completed"
    },
    "tags": []
   },
   "outputs": [
    {
     "data": {
      "text/plain": [
       "(247, 26)"
      ]
     },
     "execution_count": 3,
     "metadata": {},
     "output_type": "execute_result"
    }
   ],
   "source": [
    "data.shape"
   ]
  },
  {
   "cell_type": "code",
   "execution_count": 4,
   "id": "371cacb3",
   "metadata": {
    "execution": {
     "iopub.execute_input": "2023-12-26T09:35:45.696260Z",
     "iopub.status.busy": "2023-12-26T09:35:45.694757Z",
     "iopub.status.idle": "2023-12-26T09:35:45.726121Z",
     "shell.execute_reply": "2023-12-26T09:35:45.724253Z"
    },
    "papermill": {
     "duration": 0.04452,
     "end_time": "2023-12-26T09:35:45.728836",
     "exception": false,
     "start_time": "2023-12-26T09:35:45.684316",
     "status": "completed"
    },
    "tags": []
   },
   "outputs": [
    {
     "name": "stdout",
     "output_type": "stream",
     "text": [
      "<class 'pandas.core.frame.DataFrame'>\n",
      "RangeIndex: 247 entries, 0 to 246\n",
      "Data columns (total 26 columns):\n",
      " #   Column                                 Non-Null Count  Dtype  \n",
      "---  ------                                 --------------  -----  \n",
      " 0   id                                     246 non-null    object \n",
      " 1   title                                  247 non-null    object \n",
      " 2   description                            247 non-null    object \n",
      " 3   publishTime                            247 non-null    object \n",
      " 4   kind_stats                             246 non-null    object \n",
      " 5   duration_seconds                       247 non-null    int64  \n",
      " 6   viewCount                              246 non-null    float64\n",
      " 7   likeCount                              244 non-null    float64\n",
      " 8   commentCount                           245 non-null    float64\n",
      " 9   thumbnails.default.url                 247 non-null    object \n",
      " 10  thumbnails.default.width               246 non-null    float64\n",
      " 11  thumbnails.default.height              246 non-null    float64\n",
      " 12  thumbnails.medium.url                  247 non-null    object \n",
      " 13  thumbnails.medium.width                246 non-null    float64\n",
      " 14  thumbnails.medium.height               246 non-null    float64\n",
      " 15  thumbnails.high.url                    247 non-null    object \n",
      " 16  thumbnails.high.width                  246 non-null    float64\n",
      " 17  thumbnails.high.height                 246 non-null    float64\n",
      " 18  contentDetails.duration                246 non-null    object \n",
      " 19  contentDetails.dimension               246 non-null    object \n",
      " 20  topicDetails.topicCategories           235 non-null    object \n",
      " 21  snippet.defaultLanguage                2 non-null      object \n",
      " 22  localizations.en.title                 2 non-null      object \n",
      " 23  localizations.en.description           2 non-null      object \n",
      " 24  snippet.tags                           106 non-null    object \n",
      " 25  contentDetails.contentRating.ytRating  1 non-null      object \n",
      "dtypes: float64(9), int64(1), object(16)\n",
      "memory usage: 50.3+ KB\n"
     ]
    }
   ],
   "source": [
    "data.info()"
   ]
  },
  {
   "cell_type": "code",
   "execution_count": 5,
   "id": "2b0a63a5",
   "metadata": {
    "execution": {
     "iopub.execute_input": "2023-12-26T09:35:45.748619Z",
     "iopub.status.busy": "2023-12-26T09:35:45.748105Z",
     "iopub.status.idle": "2023-12-26T09:35:45.800681Z",
     "shell.execute_reply": "2023-12-26T09:35:45.799217Z"
    },
    "papermill": {
     "duration": 0.065793,
     "end_time": "2023-12-26T09:35:45.803482",
     "exception": false,
     "start_time": "2023-12-26T09:35:45.737689",
     "status": "completed"
    },
    "tags": []
   },
   "outputs": [
    {
     "data": {
      "text/html": [
       "<div>\n",
       "<style scoped>\n",
       "    .dataframe tbody tr th:only-of-type {\n",
       "        vertical-align: middle;\n",
       "    }\n",
       "\n",
       "    .dataframe tbody tr th {\n",
       "        vertical-align: top;\n",
       "    }\n",
       "\n",
       "    .dataframe thead th {\n",
       "        text-align: right;\n",
       "    }\n",
       "</style>\n",
       "<table border=\"1\" class=\"dataframe\">\n",
       "  <thead>\n",
       "    <tr style=\"text-align: right;\">\n",
       "      <th></th>\n",
       "      <th>id</th>\n",
       "      <th>title</th>\n",
       "      <th>description</th>\n",
       "      <th>publishTime</th>\n",
       "      <th>kind_stats</th>\n",
       "      <th>duration_seconds</th>\n",
       "      <th>viewCount</th>\n",
       "      <th>likeCount</th>\n",
       "      <th>commentCount</th>\n",
       "      <th>thumbnails.default.url</th>\n",
       "      <th>...</th>\n",
       "      <th>localizations.en.title</th>\n",
       "      <th>localizations.en.description</th>\n",
       "      <th>snippet.tags</th>\n",
       "      <th>contentDetails.contentRating.ytRating</th>\n",
       "      <th>publishDate</th>\n",
       "      <th>publishTimestamp</th>\n",
       "      <th>publishDay</th>\n",
       "      <th>publishMonth</th>\n",
       "      <th>publishYear</th>\n",
       "      <th>Day_of_Week</th>\n",
       "    </tr>\n",
       "  </thead>\n",
       "  <tbody>\n",
       "    <tr>\n",
       "      <th>0</th>\n",
       "      <td>TQHEJj68Jew</td>\n",
       "      <td>I Got Hunted By A Real Bounty Hunter</td>\n",
       "      <td>Sign up for Current w/ my Creator Code \"BEAST\"...</td>\n",
       "      <td>2021-04-24 20:00:00+00:00</td>\n",
       "      <td>youtube#video</td>\n",
       "      <td>861</td>\n",
       "      <td>84717282.0</td>\n",
       "      <td>2876493.0</td>\n",
       "      <td>128922.0</td>\n",
       "      <td>https://i.ytimg.com/vi/TQHEJj68Jew/default.jpg</td>\n",
       "      <td>...</td>\n",
       "      <td>NaN</td>\n",
       "      <td>NaN</td>\n",
       "      <td>NaN</td>\n",
       "      <td>NaN</td>\n",
       "      <td>2021-04-24</td>\n",
       "      <td>20:00:00</td>\n",
       "      <td>24</td>\n",
       "      <td>4</td>\n",
       "      <td>2021</td>\n",
       "      <td>Saturday</td>\n",
       "    </tr>\n",
       "    <tr>\n",
       "      <th>1</th>\n",
       "      <td>00NgUctWoLQ</td>\n",
       "      <td>Extreme $1,000,000 Hide And Seek</td>\n",
       "      <td>I didn't expect that to happen at the end I wa...</td>\n",
       "      <td>2021-12-18 21:00:00+00:00</td>\n",
       "      <td>youtube#video</td>\n",
       "      <td>729</td>\n",
       "      <td>32090178.0</td>\n",
       "      <td>2125183.0</td>\n",
       "      <td>73593.0</td>\n",
       "      <td>https://i.ytimg.com/vi/00NgUctWoLQ/default.jpg</td>\n",
       "      <td>...</td>\n",
       "      <td>Extreme $1,000,000 Hide And Seek</td>\n",
       "      <td>I didn't expect that to happen at the end I wa...</td>\n",
       "      <td>NaN</td>\n",
       "      <td>NaN</td>\n",
       "      <td>2021-12-18</td>\n",
       "      <td>21:00:00</td>\n",
       "      <td>18</td>\n",
       "      <td>12</td>\n",
       "      <td>2021</td>\n",
       "      <td>Saturday</td>\n",
       "    </tr>\n",
       "    <tr>\n",
       "      <th>2</th>\n",
       "      <td>NaN</td>\n",
       "      <td>MrBeast</td>\n",
       "      <td>Accomplishments - Raised $20000000 To Plant 20...</td>\n",
       "      <td>2012-02-20 00:43:50+00:00</td>\n",
       "      <td>NaN</td>\n",
       "      <td>0</td>\n",
       "      <td>NaN</td>\n",
       "      <td>NaN</td>\n",
       "      <td>NaN</td>\n",
       "      <td>https://yt3.ggpht.com/ytc/AKedOLTctGKJ32CdDLiS...</td>\n",
       "      <td>...</td>\n",
       "      <td>NaN</td>\n",
       "      <td>NaN</td>\n",
       "      <td>NaN</td>\n",
       "      <td>NaN</td>\n",
       "      <td>2012-02-20</td>\n",
       "      <td>00:43:50</td>\n",
       "      <td>20</td>\n",
       "      <td>2</td>\n",
       "      <td>2012</td>\n",
       "      <td>Monday</td>\n",
       "    </tr>\n",
       "    <tr>\n",
       "      <th>3</th>\n",
       "      <td>ayXxwJJId_c</td>\n",
       "      <td>I Bought The World&amp;#39;s Largest Mystery Box! ...</td>\n",
       "      <td>I cant believe I spent over $500000 on mystery...</td>\n",
       "      <td>2021-04-03 20:00:01+00:00</td>\n",
       "      <td>youtube#video</td>\n",
       "      <td>709</td>\n",
       "      <td>101745632.0</td>\n",
       "      <td>3110824.0</td>\n",
       "      <td>162796.0</td>\n",
       "      <td>https://i.ytimg.com/vi/ayXxwJJId_c/default.jpg</td>\n",
       "      <td>...</td>\n",
       "      <td>NaN</td>\n",
       "      <td>NaN</td>\n",
       "      <td>NaN</td>\n",
       "      <td>NaN</td>\n",
       "      <td>2021-04-03</td>\n",
       "      <td>20:00:01</td>\n",
       "      <td>3</td>\n",
       "      <td>4</td>\n",
       "      <td>2021</td>\n",
       "      <td>Saturday</td>\n",
       "    </tr>\n",
       "    <tr>\n",
       "      <th>4</th>\n",
       "      <td>cExLQ1o2pDw</td>\n",
       "      <td>First To Rob Bank Wins $100,000</td>\n",
       "      <td>I didnt think he would actually rob the bank.....</td>\n",
       "      <td>2021-09-26 20:00:06+00:00</td>\n",
       "      <td>youtube#video</td>\n",
       "      <td>482</td>\n",
       "      <td>50008942.0</td>\n",
       "      <td>2359606.0</td>\n",
       "      <td>120621.0</td>\n",
       "      <td>https://i.ytimg.com/vi/cExLQ1o2pDw/default.jpg</td>\n",
       "      <td>...</td>\n",
       "      <td>NaN</td>\n",
       "      <td>NaN</td>\n",
       "      <td>NaN</td>\n",
       "      <td>NaN</td>\n",
       "      <td>2021-09-26</td>\n",
       "      <td>20:00:06</td>\n",
       "      <td>26</td>\n",
       "      <td>9</td>\n",
       "      <td>2021</td>\n",
       "      <td>Sunday</td>\n",
       "    </tr>\n",
       "  </tbody>\n",
       "</table>\n",
       "<p>5 rows × 32 columns</p>\n",
       "</div>"
      ],
      "text/plain": [
       "            id                                              title  \\\n",
       "0  TQHEJj68Jew               I Got Hunted By A Real Bounty Hunter   \n",
       "1  00NgUctWoLQ                   Extreme $1,000,000 Hide And Seek   \n",
       "2          NaN                                            MrBeast   \n",
       "3  ayXxwJJId_c  I Bought The World&#39;s Largest Mystery Box! ...   \n",
       "4  cExLQ1o2pDw                    First To Rob Bank Wins $100,000   \n",
       "\n",
       "                                         description  \\\n",
       "0  Sign up for Current w/ my Creator Code \"BEAST\"...   \n",
       "1  I didn't expect that to happen at the end I wa...   \n",
       "2  Accomplishments - Raised $20000000 To Plant 20...   \n",
       "3  I cant believe I spent over $500000 on mystery...   \n",
       "4  I didnt think he would actually rob the bank.....   \n",
       "\n",
       "                publishTime     kind_stats  duration_seconds    viewCount  \\\n",
       "0 2021-04-24 20:00:00+00:00  youtube#video               861   84717282.0   \n",
       "1 2021-12-18 21:00:00+00:00  youtube#video               729   32090178.0   \n",
       "2 2012-02-20 00:43:50+00:00            NaN                 0          NaN   \n",
       "3 2021-04-03 20:00:01+00:00  youtube#video               709  101745632.0   \n",
       "4 2021-09-26 20:00:06+00:00  youtube#video               482   50008942.0   \n",
       "\n",
       "   likeCount  commentCount                             thumbnails.default.url  \\\n",
       "0  2876493.0      128922.0     https://i.ytimg.com/vi/TQHEJj68Jew/default.jpg   \n",
       "1  2125183.0       73593.0     https://i.ytimg.com/vi/00NgUctWoLQ/default.jpg   \n",
       "2        NaN           NaN  https://yt3.ggpht.com/ytc/AKedOLTctGKJ32CdDLiS...   \n",
       "3  3110824.0      162796.0     https://i.ytimg.com/vi/ayXxwJJId_c/default.jpg   \n",
       "4  2359606.0      120621.0     https://i.ytimg.com/vi/cExLQ1o2pDw/default.jpg   \n",
       "\n",
       "   ...            localizations.en.title  \\\n",
       "0  ...                               NaN   \n",
       "1  ...  Extreme $1,000,000 Hide And Seek   \n",
       "2  ...                               NaN   \n",
       "3  ...                               NaN   \n",
       "4  ...                               NaN   \n",
       "\n",
       "                        localizations.en.description snippet.tags  \\\n",
       "0                                                NaN          NaN   \n",
       "1  I didn't expect that to happen at the end I wa...          NaN   \n",
       "2                                                NaN          NaN   \n",
       "3                                                NaN          NaN   \n",
       "4                                                NaN          NaN   \n",
       "\n",
       "   contentDetails.contentRating.ytRating  publishDate publishTimestamp  \\\n",
       "0                                    NaN   2021-04-24         20:00:00   \n",
       "1                                    NaN   2021-12-18         21:00:00   \n",
       "2                                    NaN   2012-02-20         00:43:50   \n",
       "3                                    NaN   2021-04-03         20:00:01   \n",
       "4                                    NaN   2021-09-26         20:00:06   \n",
       "\n",
       "   publishDay  publishMonth publishYear Day_of_Week  \n",
       "0          24             4        2021    Saturday  \n",
       "1          18            12        2021    Saturday  \n",
       "2          20             2        2012      Monday  \n",
       "3           3             4        2021    Saturday  \n",
       "4          26             9        2021      Sunday  \n",
       "\n",
       "[5 rows x 32 columns]"
      ]
     },
     "execution_count": 5,
     "metadata": {},
     "output_type": "execute_result"
    }
   ],
   "source": [
    "#data wrangling the date and time data\n",
    "data['publishTime'] = pd.to_datetime(data['publishTime'])\n",
    "data['publishDate'] = data['publishTime'].dt.date\n",
    "data['publishTimestamp'] = data['publishTime'].dt.time\n",
    "\n",
    "data['publishDay'] = data['publishTime'].dt.day\n",
    "data['publishMonth'] = data['publishTime'].dt.month\n",
    "data['publishYear'] = data['publishTime'].dt.year\n",
    "\n",
    "data['Day_of_Week'] = data['publishTime'].dt.day_name()\n",
    "\n",
    "data.head(5)"
   ]
  },
  {
   "cell_type": "code",
   "execution_count": 6,
   "id": "979d1054",
   "metadata": {
    "execution": {
     "iopub.execute_input": "2023-12-26T09:35:45.824927Z",
     "iopub.status.busy": "2023-12-26T09:35:45.824335Z",
     "iopub.status.idle": "2023-12-26T09:35:45.853837Z",
     "shell.execute_reply": "2023-12-26T09:35:45.852541Z"
    },
    "papermill": {
     "duration": 0.043728,
     "end_time": "2023-12-26T09:35:45.856789",
     "exception": false,
     "start_time": "2023-12-26T09:35:45.813061",
     "status": "completed"
    },
    "tags": []
   },
   "outputs": [
    {
     "data": {
      "text/html": [
       "<div>\n",
       "<style scoped>\n",
       "    .dataframe tbody tr th:only-of-type {\n",
       "        vertical-align: middle;\n",
       "    }\n",
       "\n",
       "    .dataframe tbody tr th {\n",
       "        vertical-align: top;\n",
       "    }\n",
       "\n",
       "    .dataframe thead th {\n",
       "        text-align: right;\n",
       "    }\n",
       "</style>\n",
       "<table border=\"1\" class=\"dataframe\">\n",
       "  <thead>\n",
       "    <tr style=\"text-align: right;\">\n",
       "      <th></th>\n",
       "      <th>id</th>\n",
       "      <th>title</th>\n",
       "      <th>description</th>\n",
       "      <th>kind_stats</th>\n",
       "      <th>duration_seconds</th>\n",
       "      <th>viewCount</th>\n",
       "      <th>likeCount</th>\n",
       "      <th>commentCount</th>\n",
       "      <th>thumbnails.high.width</th>\n",
       "      <th>thumbnails.high.height</th>\n",
       "      <th>publishYear</th>\n",
       "      <th>publishMonth</th>\n",
       "      <th>publishDay</th>\n",
       "      <th>Day_of_Week</th>\n",
       "      <th>publishTimestamp</th>\n",
       "    </tr>\n",
       "  </thead>\n",
       "  <tbody>\n",
       "    <tr>\n",
       "      <th>0</th>\n",
       "      <td>TQHEJj68Jew</td>\n",
       "      <td>I Got Hunted By A Real Bounty Hunter</td>\n",
       "      <td>Sign up for Current w/ my Creator Code \"BEAST\"...</td>\n",
       "      <td>youtube#video</td>\n",
       "      <td>861</td>\n",
       "      <td>84717282.0</td>\n",
       "      <td>2876493.0</td>\n",
       "      <td>128922.0</td>\n",
       "      <td>480.0</td>\n",
       "      <td>360.0</td>\n",
       "      <td>2021</td>\n",
       "      <td>4</td>\n",
       "      <td>24</td>\n",
       "      <td>Saturday</td>\n",
       "      <td>20:00:00</td>\n",
       "    </tr>\n",
       "    <tr>\n",
       "      <th>1</th>\n",
       "      <td>00NgUctWoLQ</td>\n",
       "      <td>Extreme $1,000,000 Hide And Seek</td>\n",
       "      <td>I didn't expect that to happen at the end I wa...</td>\n",
       "      <td>youtube#video</td>\n",
       "      <td>729</td>\n",
       "      <td>32090178.0</td>\n",
       "      <td>2125183.0</td>\n",
       "      <td>73593.0</td>\n",
       "      <td>480.0</td>\n",
       "      <td>360.0</td>\n",
       "      <td>2021</td>\n",
       "      <td>12</td>\n",
       "      <td>18</td>\n",
       "      <td>Saturday</td>\n",
       "      <td>21:00:00</td>\n",
       "    </tr>\n",
       "    <tr>\n",
       "      <th>2</th>\n",
       "      <td>NaN</td>\n",
       "      <td>MrBeast</td>\n",
       "      <td>Accomplishments - Raised $20000000 To Plant 20...</td>\n",
       "      <td>NaN</td>\n",
       "      <td>0</td>\n",
       "      <td>NaN</td>\n",
       "      <td>NaN</td>\n",
       "      <td>NaN</td>\n",
       "      <td>NaN</td>\n",
       "      <td>NaN</td>\n",
       "      <td>2012</td>\n",
       "      <td>2</td>\n",
       "      <td>20</td>\n",
       "      <td>Monday</td>\n",
       "      <td>00:43:50</td>\n",
       "    </tr>\n",
       "    <tr>\n",
       "      <th>3</th>\n",
       "      <td>ayXxwJJId_c</td>\n",
       "      <td>I Bought The World&amp;#39;s Largest Mystery Box! ...</td>\n",
       "      <td>I cant believe I spent over $500000 on mystery...</td>\n",
       "      <td>youtube#video</td>\n",
       "      <td>709</td>\n",
       "      <td>101745632.0</td>\n",
       "      <td>3110824.0</td>\n",
       "      <td>162796.0</td>\n",
       "      <td>480.0</td>\n",
       "      <td>360.0</td>\n",
       "      <td>2021</td>\n",
       "      <td>4</td>\n",
       "      <td>3</td>\n",
       "      <td>Saturday</td>\n",
       "      <td>20:00:01</td>\n",
       "    </tr>\n",
       "    <tr>\n",
       "      <th>4</th>\n",
       "      <td>cExLQ1o2pDw</td>\n",
       "      <td>First To Rob Bank Wins $100,000</td>\n",
       "      <td>I didnt think he would actually rob the bank.....</td>\n",
       "      <td>youtube#video</td>\n",
       "      <td>482</td>\n",
       "      <td>50008942.0</td>\n",
       "      <td>2359606.0</td>\n",
       "      <td>120621.0</td>\n",
       "      <td>480.0</td>\n",
       "      <td>360.0</td>\n",
       "      <td>2021</td>\n",
       "      <td>9</td>\n",
       "      <td>26</td>\n",
       "      <td>Sunday</td>\n",
       "      <td>20:00:06</td>\n",
       "    </tr>\n",
       "  </tbody>\n",
       "</table>\n",
       "</div>"
      ],
      "text/plain": [
       "            id                                              title  \\\n",
       "0  TQHEJj68Jew               I Got Hunted By A Real Bounty Hunter   \n",
       "1  00NgUctWoLQ                   Extreme $1,000,000 Hide And Seek   \n",
       "2          NaN                                            MrBeast   \n",
       "3  ayXxwJJId_c  I Bought The World&#39;s Largest Mystery Box! ...   \n",
       "4  cExLQ1o2pDw                    First To Rob Bank Wins $100,000   \n",
       "\n",
       "                                         description     kind_stats  \\\n",
       "0  Sign up for Current w/ my Creator Code \"BEAST\"...  youtube#video   \n",
       "1  I didn't expect that to happen at the end I wa...  youtube#video   \n",
       "2  Accomplishments - Raised $20000000 To Plant 20...            NaN   \n",
       "3  I cant believe I spent over $500000 on mystery...  youtube#video   \n",
       "4  I didnt think he would actually rob the bank.....  youtube#video   \n",
       "\n",
       "   duration_seconds    viewCount  likeCount  commentCount  \\\n",
       "0               861   84717282.0  2876493.0      128922.0   \n",
       "1               729   32090178.0  2125183.0       73593.0   \n",
       "2                 0          NaN        NaN           NaN   \n",
       "3               709  101745632.0  3110824.0      162796.0   \n",
       "4               482   50008942.0  2359606.0      120621.0   \n",
       "\n",
       "   thumbnails.high.width  thumbnails.high.height  publishYear  publishMonth  \\\n",
       "0                  480.0                   360.0         2021             4   \n",
       "1                  480.0                   360.0         2021            12   \n",
       "2                    NaN                     NaN         2012             2   \n",
       "3                  480.0                   360.0         2021             4   \n",
       "4                  480.0                   360.0         2021             9   \n",
       "\n",
       "   publishDay Day_of_Week publishTimestamp  \n",
       "0          24    Saturday         20:00:00  \n",
       "1          18    Saturday         21:00:00  \n",
       "2          20      Monday         00:43:50  \n",
       "3           3    Saturday         20:00:01  \n",
       "4          26      Sunday         20:00:06  "
      ]
     },
     "execution_count": 6,
     "metadata": {},
     "output_type": "execute_result"
    }
   ],
   "source": [
    "#eliminate unused data columns\n",
    "data = data[['id','title','description','kind_stats','duration_seconds','viewCount','likeCount','commentCount','thumbnails.high.width','thumbnails.high.height','publishYear', 'publishMonth', 'publishDay', 'Day_of_Week','publishTimestamp']]\n",
    "data.head(5)"
   ]
  },
  {
   "cell_type": "code",
   "execution_count": 7,
   "id": "aeb24fc0",
   "metadata": {
    "execution": {
     "iopub.execute_input": "2023-12-26T09:35:45.880414Z",
     "iopub.status.busy": "2023-12-26T09:35:45.878922Z",
     "iopub.status.idle": "2023-12-26T09:35:45.887277Z",
     "shell.execute_reply": "2023-12-26T09:35:45.886014Z"
    },
    "papermill": {
     "duration": 0.023214,
     "end_time": "2023-12-26T09:35:45.890251",
     "exception": false,
     "start_time": "2023-12-26T09:35:45.867037",
     "status": "completed"
    },
    "tags": []
   },
   "outputs": [
    {
     "data": {
      "text/plain": [
       "(247, 15)"
      ]
     },
     "execution_count": 7,
     "metadata": {},
     "output_type": "execute_result"
    }
   ],
   "source": [
    "data.shape"
   ]
  },
  {
   "cell_type": "code",
   "execution_count": 8,
   "id": "f21b9f43",
   "metadata": {
    "execution": {
     "iopub.execute_input": "2023-12-26T09:35:45.913823Z",
     "iopub.status.busy": "2023-12-26T09:35:45.913357Z",
     "iopub.status.idle": "2023-12-26T09:35:45.926849Z",
     "shell.execute_reply": "2023-12-26T09:35:45.925445Z"
    },
    "papermill": {
     "duration": 0.028916,
     "end_time": "2023-12-26T09:35:45.929676",
     "exception": false,
     "start_time": "2023-12-26T09:35:45.900760",
     "status": "completed"
    },
    "tags": []
   },
   "outputs": [
    {
     "data": {
      "text/plain": [
       "id                        1\n",
       "title                     0\n",
       "description               0\n",
       "kind_stats                1\n",
       "duration_seconds          0\n",
       "viewCount                 1\n",
       "likeCount                 3\n",
       "commentCount              2\n",
       "thumbnails.high.width     1\n",
       "thumbnails.high.height    1\n",
       "publishYear               0\n",
       "publishMonth              0\n",
       "publishDay                0\n",
       "Day_of_Week               0\n",
       "publishTimestamp          0\n",
       "dtype: int64"
      ]
     },
     "execution_count": 8,
     "metadata": {},
     "output_type": "execute_result"
    }
   ],
   "source": [
    "data.isnull().sum()"
   ]
  },
  {
   "cell_type": "code",
   "execution_count": 9,
   "id": "7462a38c",
   "metadata": {
    "execution": {
     "iopub.execute_input": "2023-12-26T09:35:45.953959Z",
     "iopub.status.busy": "2023-12-26T09:35:45.953150Z",
     "iopub.status.idle": "2023-12-26T09:35:45.969138Z",
     "shell.execute_reply": "2023-12-26T09:35:45.967723Z"
    },
    "papermill": {
     "duration": 0.031936,
     "end_time": "2023-12-26T09:35:45.972153",
     "exception": false,
     "start_time": "2023-12-26T09:35:45.940217",
     "status": "completed"
    },
    "tags": []
   },
   "outputs": [
    {
     "name": "stdout",
     "output_type": "stream",
     "text": [
      "<class 'pandas.core.frame.DataFrame'>\n",
      "RangeIndex: 247 entries, 0 to 246\n",
      "Data columns (total 15 columns):\n",
      " #   Column                  Non-Null Count  Dtype  \n",
      "---  ------                  --------------  -----  \n",
      " 0   id                      246 non-null    object \n",
      " 1   title                   247 non-null    object \n",
      " 2   description             247 non-null    object \n",
      " 3   kind_stats              246 non-null    object \n",
      " 4   duration_seconds        247 non-null    int64  \n",
      " 5   viewCount               246 non-null    float64\n",
      " 6   likeCount               244 non-null    float64\n",
      " 7   commentCount            245 non-null    float64\n",
      " 8   thumbnails.high.width   246 non-null    float64\n",
      " 9   thumbnails.high.height  246 non-null    float64\n",
      " 10  publishYear             247 non-null    int32  \n",
      " 11  publishMonth            247 non-null    int32  \n",
      " 12  publishDay              247 non-null    int32  \n",
      " 13  Day_of_Week             247 non-null    object \n",
      " 14  publishTimestamp        247 non-null    object \n",
      "dtypes: float64(5), int32(3), int64(1), object(6)\n",
      "memory usage: 26.2+ KB\n"
     ]
    }
   ],
   "source": [
    "data.info()"
   ]
  },
  {
   "cell_type": "markdown",
   "id": "3dee9770",
   "metadata": {
    "papermill": {
     "duration": 0.010774,
     "end_time": "2023-12-26T09:35:45.993349",
     "exception": false,
     "start_time": "2023-12-26T09:35:45.982575",
     "status": "completed"
    },
    "tags": []
   },
   "source": [
    "### 1. What is the average duration of Mr Beast's videos in seconds?"
   ]
  },
  {
   "cell_type": "code",
   "execution_count": 10,
   "id": "1c43efd3",
   "metadata": {
    "execution": {
     "iopub.execute_input": "2023-12-26T09:35:46.018854Z",
     "iopub.status.busy": "2023-12-26T09:35:46.018077Z",
     "iopub.status.idle": "2023-12-26T09:35:46.025290Z",
     "shell.execute_reply": "2023-12-26T09:35:46.023284Z"
    },
    "papermill": {
     "duration": 0.023112,
     "end_time": "2023-12-26T09:35:46.028206",
     "exception": false,
     "start_time": "2023-12-26T09:35:46.005094",
     "status": "completed"
    },
    "tags": []
   },
   "outputs": [
    {
     "name": "stdout",
     "output_type": "stream",
     "text": [
      "The average duration of Mr Beast Videos in seconds:  1886.2348178137652\n"
     ]
    }
   ],
   "source": [
    "#average function\n",
    "average = data['duration_seconds'].mean()\n",
    "print(\"The average duration of Mr Beast Videos in seconds: \",average)"
   ]
  },
  {
   "cell_type": "markdown",
   "id": "bbd586ec",
   "metadata": {
    "papermill": {
     "duration": 0.010277,
     "end_time": "2023-12-26T09:35:46.049249",
     "exception": false,
     "start_time": "2023-12-26T09:35:46.038972",
     "status": "completed"
    },
    "tags": []
   },
   "source": [
    "### 2. Which video has the highest view count?"
   ]
  },
  {
   "cell_type": "code",
   "execution_count": 11,
   "id": "8c96d0c8",
   "metadata": {
    "execution": {
     "iopub.execute_input": "2023-12-26T09:35:46.073277Z",
     "iopub.status.busy": "2023-12-26T09:35:46.072822Z",
     "iopub.status.idle": "2023-12-26T09:35:46.082648Z",
     "shell.execute_reply": "2023-12-26T09:35:46.081023Z"
    },
    "papermill": {
     "duration": 0.025415,
     "end_time": "2023-12-26T09:35:46.085427",
     "exception": false,
     "start_time": "2023-12-26T09:35:46.060012",
     "status": "completed"
    },
    "tags": []
   },
   "outputs": [
    {
     "name": "stdout",
     "output_type": "stream",
     "text": [
      "The video with the highest view count:  $456,000 Squid Game In Real Life!\n"
     ]
    }
   ],
   "source": [
    "#find a max value then locate its title\n",
    "highest_viewcount = data['viewCount'].max()\n",
    "result = data[data['viewCount'] == highest_viewcount]\n",
    "distinct_value = result['title'].iloc[0]\n",
    "print(\"The video with the highest view count: \",distinct_value)"
   ]
  },
  {
   "cell_type": "markdown",
   "id": "73d28f87",
   "metadata": {
    "papermill": {
     "duration": 0.010536,
     "end_time": "2023-12-26T09:35:46.106606",
     "exception": false,
     "start_time": "2023-12-26T09:35:46.096070",
     "status": "completed"
    },
    "tags": []
   },
   "source": [
    "### 3. What is the correlation between the number of views and the number of likes on Mr Beast's videos?"
   ]
  },
  {
   "cell_type": "code",
   "execution_count": 12,
   "id": "79e92cda",
   "metadata": {
    "execution": {
     "iopub.execute_input": "2023-12-26T09:35:46.130855Z",
     "iopub.status.busy": "2023-12-26T09:35:46.130286Z",
     "iopub.status.idle": "2023-12-26T09:35:46.141702Z",
     "shell.execute_reply": "2023-12-26T09:35:46.140074Z"
    },
    "papermill": {
     "duration": 0.027455,
     "end_time": "2023-12-26T09:35:46.145223",
     "exception": false,
     "start_time": "2023-12-26T09:35:46.117768",
     "status": "completed"
    },
    "tags": []
   },
   "outputs": [
    {
     "name": "stdout",
     "output_type": "stream",
     "text": [
      "Correlation between number of views and likes: 69.14%\n"
     ]
    }
   ],
   "source": [
    "#generate a correlation matrix\n",
    "correlation = round((data['viewCount'].corr(data['likeCount']))*100,2)\n",
    "print(f\"Correlation between number of views and likes: {correlation}%\")"
   ]
  },
  {
   "cell_type": "markdown",
   "id": "f251798d",
   "metadata": {
    "papermill": {
     "duration": 0.011119,
     "end_time": "2023-12-26T09:35:46.167450",
     "exception": false,
     "start_time": "2023-12-26T09:35:46.156331",
     "status": "completed"
    },
    "tags": []
   },
   "source": [
    "### 4. On which day of the week are Mr Beast's videos most commonly published?"
   ]
  },
  {
   "cell_type": "code",
   "execution_count": 13,
   "id": "46bba328",
   "metadata": {
    "execution": {
     "iopub.execute_input": "2023-12-26T09:35:46.191362Z",
     "iopub.status.busy": "2023-12-26T09:35:46.190933Z",
     "iopub.status.idle": "2023-12-26T09:35:46.695468Z",
     "shell.execute_reply": "2023-12-26T09:35:46.693905Z"
    },
    "papermill": {
     "duration": 0.51961,
     "end_time": "2023-12-26T09:35:46.698009",
     "exception": false,
     "start_time": "2023-12-26T09:35:46.178399",
     "status": "completed"
    },
    "tags": []
   },
   "outputs": [
    {
     "data": {
      "image/png": "[encoded data removed]",
      "text/plain": [
       "<Figure size 800x600 with 1 Axes>"
      ]
     },
     "metadata": {},
     "output_type": "display_data"
    }
   ],
   "source": [
    "#count views based on aggregated day of the week values\n",
    "sum_values = data.groupby('Day_of_Week')['title'].count().reset_index()\n",
    "\n",
    "#generate a graph\n",
    "plt.figure(figsize=(8, 6))\n",
    "plt.bar(sum_values['Day_of_Week'], sum_values['title'])\n",
    "plt.xlabel('Days of Week')\n",
    "plt.ylabel('Aggregate values')\n",
    "plt.title('Sum of Videos by Days of the week')\n",
    "plt.xticks(rotation=45)  \n",
    "plt.tight_layout()\n",
    "plt.show()"
   ]
  },
  {
   "cell_type": "markdown",
   "id": "4f5a33f8",
   "metadata": {
    "papermill": {
     "duration": 0.010804,
     "end_time": "2023-12-26T09:35:46.719936",
     "exception": false,
     "start_time": "2023-12-26T09:35:46.709132",
     "status": "completed"
    },
    "tags": []
   },
   "source": [
    "### 5. Is there any correlation between video duration and the number of comments received?"
   ]
  },
  {
   "cell_type": "code",
   "execution_count": 14,
   "id": "fb6b4570",
   "metadata": {
    "execution": {
     "iopub.execute_input": "2023-12-26T09:35:46.744001Z",
     "iopub.status.busy": "2023-12-26T09:35:46.743491Z",
     "iopub.status.idle": "2023-12-26T09:35:46.752646Z",
     "shell.execute_reply": "2023-12-26T09:35:46.751132Z"
    },
    "papermill": {
     "duration": 0.024618,
     "end_time": "2023-12-26T09:35:46.755504",
     "exception": false,
     "start_time": "2023-12-26T09:35:46.730886",
     "status": "completed"
    },
    "tags": []
   },
   "outputs": [
    {
     "name": "stdout",
     "output_type": "stream",
     "text": [
      "Correlation between video duration and the number of comments received: 3.28%\n"
     ]
    }
   ],
   "source": [
    "#generate a correlation matrix\n",
    "correlation = round((data['duration_seconds'].corr(data['commentCount']))*100,2)\n",
    "print(f\"Correlation between video duration and the number of comments received: {correlation}%\")"
   ]
  },
  {
   "cell_type": "markdown",
   "id": "f6dd2ad6",
   "metadata": {
    "papermill": {
     "duration": 0.010945,
     "end_time": "2023-12-26T09:35:46.777478",
     "exception": false,
     "start_time": "2023-12-26T09:35:46.766533",
     "status": "completed"
    },
    "tags": []
   },
   "source": [
    "### 6. What is the distribution of video durations in Mr Beast's channel?"
   ]
  },
  {
   "cell_type": "code",
   "execution_count": 15,
   "id": "b6ff9441",
   "metadata": {
    "execution": {
     "iopub.execute_input": "2023-12-26T09:35:46.801932Z",
     "iopub.status.busy": "2023-12-26T09:35:46.801404Z",
     "iopub.status.idle": "2023-12-26T09:35:47.130682Z",
     "shell.execute_reply": "2023-12-26T09:35:47.129227Z"
    },
    "papermill": {
     "duration": 0.344817,
     "end_time": "2023-12-26T09:35:47.133475",
     "exception": false,
     "start_time": "2023-12-26T09:35:46.788658",
     "status": "completed"
    },
    "tags": []
   },
   "outputs": [
    {
     "data": {
      "text/plain": [
       "<Axes: >"
      ]
     },
     "execution_count": 15,
     "metadata": {},
     "output_type": "execute_result"
    },
    {
     "data": {
      "image/png": "[encoded data removed]",
      "text/plain": [
       "<Figure size 640x480 with 1 Axes>"
      ]
     },
     "metadata": {},
     "output_type": "display_data"
    }
   ],
   "source": [
    "#generate a histogram\n",
    "data['duration_seconds'].hist()"
   ]
  },
  {
   "cell_type": "markdown",
   "id": "acc2fa0f",
   "metadata": {
    "papermill": {
     "duration": 0.011488,
     "end_time": "2023-12-26T09:35:47.156794",
     "exception": false,
     "start_time": "2023-12-26T09:35:47.145306",
     "status": "completed"
    },
    "tags": []
   },
   "source": [
    "### 7. Are there any specific words or phrases that commonly appear in video titles that could be linked to higher view counts?"
   ]
  },
  {
   "cell_type": "code",
   "execution_count": 16,
   "id": "4f5398f9",
   "metadata": {
    "execution": {
     "iopub.execute_input": "2023-12-26T09:35:47.182325Z",
     "iopub.status.busy": "2023-12-26T09:35:47.181816Z",
     "iopub.status.idle": "2023-12-26T09:35:47.355871Z",
     "shell.execute_reply": "2023-12-26T09:35:47.354695Z"
    },
    "papermill": {
     "duration": 0.190039,
     "end_time": "2023-12-26T09:35:47.358411",
     "exception": false,
     "start_time": "2023-12-26T09:35:47.168372",
     "status": "completed"
    },
    "tags": []
   },
   "outputs": [
    {
     "data": {
      "text/plain": [
       "hours          0.294855\n",
       "50             0.286350\n",
       "456            0.285641\n",
       "squid          0.285641\n",
       "24             0.240863\n",
       "confinement    0.240224\n",
       "solitary       0.240224\n",
       "spent          0.236918\n",
       "win            0.196410\n",
       "game           0.185743\n",
       "Name: viewCount, dtype: float64"
      ]
     },
     "execution_count": 16,
     "metadata": {},
     "output_type": "execute_result"
    }
   ],
   "source": [
    "#tokenize and count word frequencies\n",
    "vectorizer = CountVectorizer(stop_words='english')\n",
    "word_counts = vectorizer.fit_transform(data['title'])\n",
    "word_freq = pd.DataFrame(word_counts.toarray(), columns=vectorizer.get_feature_names_out())\n",
    "\n",
    "#add 'View_Count' to word frequencies DataFrame\n",
    "word_freq['viewCount'] = data['viewCount']\n",
    "\n",
    "#calculate correlations\n",
    "correlations = word_freq.corr()['viewCount']\n",
    "\n",
    "#sort correlations in descending order to find words/phrases with higher correlation\n",
    "sorted_correlations = correlations.drop('viewCount').sort_values(ascending=False)\n",
    "sorted_correlations.head(10)"
   ]
  }
 ],
 "metadata": {
  "kaggle": {
   "accelerator": "none",
   "dataSources": [
    {
     "datasetId": 1807292,
     "sourceId": 2955824,
     "sourceType": "datasetVersion"
    }
   ],
   "dockerImageVersionId": 30615,
   "isGpuEnabled": false,
   "isInternetEnabled": true,
   "language": "python",
   "sourceType": "notebook"
  },
  "kernelspec": {
   "display_name": "Python 3",
   "language": "python",
   "name": "python3"
  },
  "language_info": {
   "codemirror_mode": {
    "name": "ipython",
    "version": 3
   },
   "file_extension": ".py",
   "mimetype": "text/x-python",
   "name": "python",
   "nbconvert_exporter": "python",
   "pygments_lexer": "ipython3",
   "version": "3.10.12"
  },
  "papermill": {
   "default_parameters": {},
   "duration": 9.979939,
   "end_time": "2023-12-26T09:35:48.295950",
   "environment_variables": {},
   "exception": null,
   "input_path": "__notebook__.ipynb",
   "output_path": "__notebook__.ipynb",
   "parameters": {},
   "start_time": "2023-12-26T09:35:38.316011",
   "version": "2.4.0"
  }
 },
 "nbformat": 4,
 "nbformat_minor": 5
}
